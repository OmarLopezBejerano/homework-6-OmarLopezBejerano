{
 "cells": [
  {
   "cell_type": "code",
   "execution_count": null,
   "id": "8548b316",
   "metadata": {},
   "outputs": [
    {
     "name": "stdout",
     "output_type": "stream",
     "text": [
      "12320, Southwest 127th Avenue, Miami-Dade County, Florida, 33186, United States\n",
      "Latitude =  25.6543154 \n",
      "\n",
      "Longitude =  -80.3995361\n"
     ]
    }
   ],
   "source": [
    "from geopy.geocoders import Nominatim\n",
    "\n",
    "# calling the Nominatim tool and create Nominatim class\n",
    "loc = Nominatim(user_agent=\"Geopy Library\")\n",
    "\n",
    "# entering the location name\n",
    "getLoc = loc.geocode(\"12320 SW 127th Ave, Miami, FL 33186\")\n",
    "\n",
    "# printing address\n",
    "print(getLoc.address)\n",
    "\n",
    "# printing latitude and longitude\n",
    "print(\"Latitude = \", getLoc.latitude, \"\\n\")\n",
    "print(\"Longitude = \", getLoc.longitude)"
   ]
  },
  {
   "cell_type": "code",
   "execution_count": 14,
   "id": "2a55d045",
   "metadata": {},
   "outputs": [
    {
     "data": {
      "text/html": [
       "<div>\n",
       "<style scoped>\n",
       "    .dataframe tbody tr th:only-of-type {\n",
       "        vertical-align: middle;\n",
       "    }\n",
       "\n",
       "    .dataframe tbody tr th {\n",
       "        vertical-align: top;\n",
       "    }\n",
       "\n",
       "    .dataframe thead th {\n",
       "        text-align: right;\n",
       "    }\n",
       "</style>\n",
       "<table border=\"1\" class=\"dataframe\">\n",
       "  <thead>\n",
       "    <tr style=\"text-align: right;\">\n",
       "      <th></th>\n",
       "      <th>Country/Territory</th>\n",
       "      <th>IMF</th>\n",
       "      <th>World Bank</th>\n",
       "      <th>United Nations</th>\n",
       "      <th>gdp_quantile_group</th>\n",
       "    </tr>\n",
       "  </thead>\n",
       "  <tbody>\n",
       "    <tr>\n",
       "      <th>1</th>\n",
       "      <td>United States</td>\n",
       "      <td>30507217.0</td>\n",
       "      <td>29184890.0</td>\n",
       "      <td>27720700.0</td>\n",
       "      <td>Very High</td>\n",
       "    </tr>\n",
       "    <tr>\n",
       "      <th>2</th>\n",
       "      <td>China[n 1]</td>\n",
       "      <td>19231705.0</td>\n",
       "      <td>18743803.0</td>\n",
       "      <td>17794782.0</td>\n",
       "      <td>Very High</td>\n",
       "    </tr>\n",
       "    <tr>\n",
       "      <th>3</th>\n",
       "      <td>Germany</td>\n",
       "      <td>4744804.0</td>\n",
       "      <td>4659929.0</td>\n",
       "      <td>4525704.0</td>\n",
       "      <td>Very High</td>\n",
       "    </tr>\n",
       "    <tr>\n",
       "      <th>4</th>\n",
       "      <td>India</td>\n",
       "      <td>4187017.0</td>\n",
       "      <td>3912686.0</td>\n",
       "      <td>3575778.0</td>\n",
       "      <td>Very High</td>\n",
       "    </tr>\n",
       "    <tr>\n",
       "      <th>5</th>\n",
       "      <td>Japan</td>\n",
       "      <td>4186431.0</td>\n",
       "      <td>4026211.0</td>\n",
       "      <td>4204495.0</td>\n",
       "      <td>Very High</td>\n",
       "    </tr>\n",
       "  </tbody>\n",
       "</table>\n",
       "</div>"
      ],
      "text/plain": [
       "  Country/Territory         IMF  World Bank  United Nations gdp_quantile_group\n",
       "1     United States  30507217.0  29184890.0      27720700.0          Very High\n",
       "2        China[n 1]  19231705.0  18743803.0      17794782.0          Very High\n",
       "3           Germany   4744804.0   4659929.0       4525704.0          Very High\n",
       "4             India   4187017.0   3912686.0       3575778.0          Very High\n",
       "5             Japan   4186431.0   4026211.0       4204495.0          Very High"
      ]
     },
     "execution_count": 14,
     "metadata": {},
     "output_type": "execute_result"
    }
   ],
   "source": [
    "import pandas as pd\n",
    "import requests as rq\n",
    "import bs4\n",
    "from io import StringIO\n",
    "import streamlit as st\n",
    "\n",
    "## Getting the data from Wikipedia\n",
    "url = \"https://en.wikipedia.org/wiki/List_of_countries_by_GDP_(nominal)\"\n",
    "headers = {\n",
    "    \"User-Agent\": \"Mozilla/5.0 (Windows NT 10.0; Win64; x64) \"\n",
    "                  \"AppleWebKit/537.36 (KHTML, like Gecko) \"\n",
    "                  \"Chrome/102.0.0.0 Safari/537.36\"\n",
    "}\n",
    "response = rq.get(url.strip(), headers=headers, timeout=10)\n",
    "bs4page = bs4.BeautifulSoup(response.text, 'html.parser')\n",
    "tables = bs4page.find_all('table',{'class':\"wikitable\"})\n",
    "gdp = pd.read_html(StringIO(str(tables[0])))[0]\n",
    "gdp = gdp.dropna()\n",
    "gdp = gdp.drop(gdp.index[0]) # drop world from list\n",
    "gdp.rename(columns={\"IMF (2025)[1][6]\": \"IMF\"}, inplace=True)\n",
    "gdp.rename(columns={\"World Bank (2022–24)[7]\": \"World Bank\"}, inplace=True)\n",
    "gdp.rename(columns={\"United Nations (2023)[8]\": \"United Nations\"}, inplace=True)\n",
    "gdp[\"IMF\"] = pd.to_numeric(gdp[\"IMF\"], errors=\"coerce\")\n",
    "gdp[\"World Bank\"] = pd.to_numeric(gdp[\"World Bank\"], errors=\"coerce\")\n",
    "gdp[\"United Nations\"] = pd.to_numeric(gdp[\"United Nations\"], errors=\"coerce\")\n",
    "gdp = gdp.dropna()\n",
    "gdp[\"gdp_quantile_group\"] = pd.qcut(gdp[\"IMF\"], q=4, labels=[\"Low\", \"Medium\", \"High\", \"Very High\"])\n",
    "gdp.head()"
   ]
  },
  {
   "cell_type": "code",
   "execution_count": null,
   "id": "e1bf66db",
   "metadata": {},
   "outputs": [],
   "source": []
  }
 ],
 "metadata": {
  "kernelspec": {
   "display_name": "ds4bio",
   "language": "python",
   "name": "python3"
  },
  "language_info": {
   "codemirror_mode": {
    "name": "ipython",
    "version": 3
   },
   "file_extension": ".py",
   "mimetype": "text/x-python",
   "name": "python",
   "nbconvert_exporter": "python",
   "pygments_lexer": "ipython3",
   "version": "3.13.0"
  }
 },
 "nbformat": 4,
 "nbformat_minor": 5
}
