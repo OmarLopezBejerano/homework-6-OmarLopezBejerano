{
 "cells": [
  {
   "cell_type": "markdown",
   "id": "5ce08f07",
   "metadata": {},
   "source": [
    "# Assignment 6 Notebook\n",
    "Omar Lopez Bejerano\n",
    "\n",
    "10/05/2025\n",
    "\n",
    "Data science for BME\n",
    "***"
   ]
  },
  {
   "cell_type": "markdown",
   "id": "1b503f96",
   "metadata": {},
   "source": [
    "## Part 1\n",
    "Create a body mass index calculator app. It should take in height in feet or meters and weight in lbs or kilograms and return the associated body mass index. Post both the python code for your dash app and a gif screen capture of it running."
   ]
  },
  {
   "cell_type": "code",
   "execution_count": null,
   "id": "a99b67c2",
   "metadata": {
    "vscode": {
     "languageId": "plaintext"
    }
   },
   "outputs": [],
   "source": [
    "## Create a body mass index calculator app. It should take in height in feet or meters and weight in lbs or kilograms and return the associated body mass index. Post both the python code for your dash app and a gif screen capture of it running.\n"
   ]
  },
  {
   "cell_type": "markdown",
   "id": "be0a319e",
   "metadata": {},
   "source": [
    "***"
   ]
  },
  {
   "cell_type": "markdown",
   "id": "23732bb0",
   "metadata": {},
   "source": [
    "## Part 2\n",
    "Create a streamlit app where a user enters longitude and latitude and it creates a map with with a little icon over the spot that you selected. Again, post the python code for your app as well as a gif screen capture of it running."
   ]
  },
  {
   "cell_type": "code",
   "execution_count": null,
   "id": "be514feb",
   "metadata": {
    "vscode": {
     "languageId": "plaintext"
    }
   },
   "outputs": [],
   "source": [
    "## Create a streamlit app where a user enters longitude and latitude and it creates a map with with a little icon over the spot that you selected. Again, post the python code for your app as well as a gif screen capture of it running.\n"
   ]
  },
  {
   "cell_type": "markdown",
   "id": "6d29b995",
   "metadata": {},
   "source": [
    "***"
   ]
  },
  {
   "cell_type": "markdown",
   "id": "64a5de4d",
   "metadata": {},
   "source": [
    "## Part 3\n",
    "Reuse your python file that webscrapes [GDP by country](https://en.wikipedia.org/wiki/List_of_countries_by_GDP_(nominal)) and plots a stacked interactive bar plot using plotly. Stack countries within regions using the IMF numbers. Create streamlit app that displays a stacked bar plot of country GDPs stacked within regions. Allow the user to select between the IMF, UN and World Bank reported numbers. Create a short (5-10 second) gif demonstrating your app functioning. Note I use the Chrome Capture extension for this. Add your gif to your repository."
   ]
  },
  {
   "cell_type": "code",
   "execution_count": null,
   "id": "4a3bf522",
   "metadata": {
    "vscode": {
     "languageId": "plaintext"
    }
   },
   "outputs": [],
   "source": [
    "## Reuse your python file that webscrapes GDP by country and plots a stacked interactive bar plot using plotly. Stack countries within regions using the IMF numbers. Create streamlit app that displays a stacked bar plot of country GDPs stacked within regions. Allow the user to select between the IMF, UN and World Bank reported numbers. Create a short (5-10 second) gif demonstrating your app functioning. Note I use the Chrome Capture extension for this. Add your gif to your repository.\n"
   ]
  },
  {
   "cell_type": "markdown",
   "id": "d52a776f",
   "metadata": {},
   "source": [
    "***"
   ]
  }
 ],
 "metadata": {
  "language_info": {
   "name": "python"
  }
 },
 "nbformat": 4,
 "nbformat_minor": 5
}
